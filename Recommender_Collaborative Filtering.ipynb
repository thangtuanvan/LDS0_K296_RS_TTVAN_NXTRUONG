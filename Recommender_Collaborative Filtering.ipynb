{
 "cells": [
  {
   "cell_type": "code",
   "execution_count": 1,
   "metadata": {},
   "outputs": [],
   "source": [
    "import findspark\n",
    "findspark.init()"
   ]
  },
  {
   "cell_type": "code",
   "execution_count": 2,
   "metadata": {},
   "outputs": [],
   "source": [
    "import pyspark"
   ]
  },
  {
   "cell_type": "code",
   "execution_count": 3,
   "metadata": {},
   "outputs": [],
   "source": [
    "from pyspark.sql import SparkSession\n",
    "from pyspark.ml.recommendation import ALS\n",
    "from pyspark.ml.evaluation import RegressionEvaluator\n",
    "from surprise import SVD, SVDpp, NMF, Dataset, Reader\n",
    "from surprise.model_selection import cross_validate\n",
    "import pandas as pd"
   ]
  },
  {
   "cell_type": "code",
   "execution_count": 4,
   "metadata": {},
   "outputs": [
    {
     "name": "stderr",
     "output_type": "stream",
     "text": [
      "Setting default log level to \"WARN\".\n",
      "To adjust logging level use sc.setLogLevel(newLevel). For SparkR, use setLogLevel(newLevel).\n",
      "24/08/19 15:16:11 WARN NativeCodeLoader: Unable to load native-hadoop library for your platform... using builtin-java classes where applicable\n"
     ]
    }
   ],
   "source": [
    "spark = SparkSession.builder.appName(\"CollaborativeFiltering\").getOrCreate()"
   ]
  },
  {
   "cell_type": "code",
   "execution_count": 5,
   "metadata": {},
   "outputs": [],
   "source": [
    "hotel_comments_df = pd.read_csv(\"data/hotel_comments_cleaned.csv\")\n",
    "hotel_info_df = pd.read_csv(\"data/hotel_info_cleaned.csv\")"
   ]
  },
  {
   "cell_type": "code",
   "execution_count": 6,
   "metadata": {},
   "outputs": [
    {
     "name": "stderr",
     "output_type": "stream",
     "text": [
      "/var/folders/py/l7rngj8j6sl2flg1m973yfgh0000gn/T/ipykernel_21147/1463577058.py:3: SettingWithCopyWarning: \n",
      "A value is trying to be set on a copy of a slice from a DataFrame.\n",
      "Try using .loc[row_indexer,col_indexer] = value instead\n",
      "\n",
      "See the caveats in the documentation: https://pandas.pydata.org/pandas-docs/stable/user_guide/indexing.html#returning-a-view-versus-a-copy\n",
      "  als_data['Hotel ID'] = als_data['Hotel ID'].apply(lambda x: int(x.split('_')[1]))\n",
      "/var/folders/py/l7rngj8j6sl2flg1m973yfgh0000gn/T/ipykernel_21147/1463577058.py:4: SettingWithCopyWarning: \n",
      "A value is trying to be set on a copy of a slice from a DataFrame.\n",
      "Try using .loc[row_indexer,col_indexer] = value instead\n",
      "\n",
      "See the caveats in the documentation: https://pandas.pydata.org/pandas-docs/stable/user_guide/indexing.html#returning-a-view-versus-a-copy\n",
      "  als_data['Reviewer ID'] = als_data['Reviewer ID'].apply(lambda x: int(x.split('_')[2]))\n"
     ]
    }
   ],
   "source": [
    "# Tiền xử lý dữ liệu cho mô hình PySpark ALS\n",
    "als_data = hotel_comments_df[['Hotel ID', 'Reviewer ID', 'Score']]\n",
    "als_data['Hotel ID'] = als_data['Hotel ID'].apply(lambda x: int(x.split('_')[1]))\n",
    "als_data['Reviewer ID'] = als_data['Reviewer ID'].apply(lambda x: int(x.split('_')[2]))"
   ]
  },
  {
   "cell_type": "code",
   "execution_count": 7,
   "metadata": {},
   "outputs": [],
   "source": [
    "# Chuyển đổi DataFrame sang Spark DataFrame\n",
    "spark_df = spark.createDataFrame(als_data)"
   ]
  },
  {
   "cell_type": "code",
   "execution_count": 8,
   "metadata": {},
   "outputs": [
    {
     "name": "stderr",
     "output_type": "stream",
     "text": [
      "                                                                                \r"
     ]
    },
    {
     "data": {
      "text/plain": [
       "25892"
      ]
     },
     "metadata": {},
     "output_type": "display_data"
    },
    {
     "data": {
      "text/plain": [
       "250"
      ]
     },
     "metadata": {},
     "output_type": "display_data"
    },
    {
     "data": {
      "text/plain": [
       "30"
      ]
     },
     "metadata": {},
     "output_type": "display_data"
    }
   ],
   "source": [
    "reviewers = spark_df.select(\"Reviewer ID\").distinct().count()\n",
    "hotels = spark_df.select(\"Hotel ID\").distinct().count()\n",
    "numerator = spark_df.count()\n",
    "display(numerator, reviewers, hotels)"
   ]
  },
  {
   "cell_type": "code",
   "execution_count": 9,
   "metadata": {},
   "outputs": [],
   "source": [
    "# Chia dữ liệu thành tập đào tạo và kiểm tra\n",
    "(training, test) = spark_df.randomSplit([0.8, 0.2])"
   ]
  },
  {
   "cell_type": "code",
   "execution_count": 10,
   "metadata": {},
   "outputs": [
    {
     "name": "stderr",
     "output_type": "stream",
     "text": [
      "24/08/19 15:16:26 WARN InstanceBuilder: Failed to load implementation from:dev.ludovic.netlib.blas.JNIBLAS\n"
     ]
    }
   ],
   "source": [
    "# Xây dựng mô hình ALS\n",
    "als = ALS(maxIter=10, regParam=0.1, rank=25, userCol=\"Reviewer ID\", itemCol=\"Hotel ID\", ratingCol=\"Score\", coldStartStrategy=\"drop\", nonnegative=True)\n",
    "model = als.fit(training)"
   ]
  },
  {
   "cell_type": "code",
   "execution_count": 11,
   "metadata": {},
   "outputs": [],
   "source": [
    "# Đánh giá mô hình\n",
    "predictions = model.transform(test)\n",
    "evaluator = RegressionEvaluator(metricName=\"rmse\", labelCol=\"Score\", predictionCol=\"prediction\")\n",
    "rmse = evaluator.evaluate(predictions)"
   ]
  },
  {
   "cell_type": "code",
   "execution_count": 12,
   "metadata": {},
   "outputs": [
    {
     "name": "stdout",
     "output_type": "stream",
     "text": [
      "Root-mean-square error = 0.9880779260355206\n"
     ]
    }
   ],
   "source": [
    "print(f\"Root-mean-square error = {str(rmse)}\")"
   ]
  },
  {
   "cell_type": "code",
   "execution_count": 13,
   "metadata": {},
   "outputs": [
    {
     "name": "stdout",
     "output_type": "stream",
     "text": [
      "+--------+-----------+-----+----------+\n",
      "|Hotel ID|Reviewer ID|Score|prediction|\n",
      "+--------+-----------+-----+----------+\n",
      "|      19|        148|  9.2| 9.0406685|\n",
      "|       4|         31| 10.0|  8.804859|\n",
      "|       5|         31| 10.0|  8.802999|\n",
      "|      17|         31|  8.8|   9.05596|\n",
      "|      18|         31|  8.0|  8.729336|\n",
      "+--------+-----------+-----+----------+\n",
      "only showing top 5 rows\n",
      "\n"
     ]
    }
   ],
   "source": [
    "predictions.show(5)"
   ]
  },
  {
   "cell_type": "code",
   "execution_count": 14,
   "metadata": {},
   "outputs": [],
   "source": [
    "# Tải dữ liệu cho Surprise\n",
    "reader = Reader(rating_scale=(1, 10))\n",
    "data = Dataset.load_from_df(hotel_comments_df[['Reviewer ID', 'Hotel ID', 'Score']], reader)"
   ]
  },
  {
   "cell_type": "code",
   "execution_count": 15,
   "metadata": {},
   "outputs": [
    {
     "name": "stdout",
     "output_type": "stream",
     "text": [
      "Evaluating RMSE, MAE of algorithm SVD on 5 split(s).\n",
      "\n",
      "                  Fold 1  Fold 2  Fold 3  Fold 4  Fold 5  Mean    Std     \n",
      "RMSE (testset)    0.9427  0.9635  0.9309  0.9578  0.9383  0.9466  0.0122  \n",
      "MAE (testset)     0.7533  0.7714  0.7490  0.7669  0.7576  0.7596  0.0084  \n",
      "Fit time          0.33    0.36    0.42    0.27    0.27    0.33    0.06    \n",
      "Test time         0.04    0.15    0.02    0.02    0.03    0.05    0.05    \n"
     ]
    }
   ],
   "source": [
    "# Huấn luyện và đánh giá mô hình SVD\n",
    "svd = SVD()\n",
    "svd_results = cross_validate(svd, data, measures=['RMSE', 'MAE'], cv=5, verbose=True)"
   ]
  },
  {
   "cell_type": "code",
   "execution_count": 16,
   "metadata": {},
   "outputs": [
    {
     "name": "stdout",
     "output_type": "stream",
     "text": [
      "Evaluating RMSE, MAE of algorithm SVDpp on 5 split(s).\n",
      "\n",
      "                  Fold 1  Fold 2  Fold 3  Fold 4  Fold 5  Mean    Std     \n",
      "RMSE (testset)    0.9370  0.9534  0.9439  0.9492  0.9562  0.9479  0.0069  \n",
      "MAE (testset)     0.7585  0.7669  0.7630  0.7727  0.7715  0.7665  0.0053  \n",
      "Fit time          0.26    0.21    0.23    0.23    0.26    0.24    0.02    \n",
      "Test time         0.02    0.02    0.02    0.03    0.03    0.03    0.00    \n"
     ]
    }
   ],
   "source": [
    "# Huấn luyện và đánh giá mô hình SVD++\n",
    "svdpp = SVDpp()\n",
    "svdpp_results = cross_validate(svdpp, data, measures=['RMSE', 'MAE'], cv=5, verbose=True)"
   ]
  },
  {
   "cell_type": "code",
   "execution_count": 17,
   "metadata": {},
   "outputs": [
    {
     "name": "stdout",
     "output_type": "stream",
     "text": [
      "Evaluating RMSE, MAE of algorithm NMF on 5 split(s).\n",
      "\n",
      "                  Fold 1  Fold 2  Fold 3  Fold 4  Fold 5  Mean    Std     \n",
      "RMSE (testset)    0.9938  0.9690  0.9718  0.9832  0.9650  0.9766  0.0105  \n",
      "MAE (testset)     0.8072  0.7884  0.7917  0.7952  0.7882  0.7942  0.0070  \n",
      "Fit time          1.60    1.41    1.32    1.35    1.31    1.40    0.11    \n",
      "Test time         0.02    0.11    0.02    0.02    0.02    0.04    0.03    \n"
     ]
    }
   ],
   "source": [
    "# Huấn luyện và đánh giá mô hình NMF\n",
    "nmf = NMF()\n",
    "nmf_results = cross_validate(nmf, data, measures=['RMSE', 'MAE'], cv=5, verbose=True)"
   ]
  },
  {
   "cell_type": "markdown",
   "metadata": {},
   "source": [
    "- SVD có RMSE trung bình là khoảng 0.9456 và MAE trung bình là 0.7589. Thời gian fit và test khá nhanh, chỉ khoảng 0.22s và 0.02s tương ứng.\n",
    "- SVD++ cho thấy RMSE trung bình là khoảng 0.9477 và MAE trung bình là 0.7662. Thời gian fit và test là 0.16s và 0.01s tương ứng.\n",
    "- NMF cho kết quả RMSE trung bình là 0.9766 và MAE trung bình là 0.7942. Thời gian fit của mô hình này lâu nhất là 0.86s, nhưng thời gian test tương tự như hai mô hình còn lại.\n",
    "\n",
    "=> Mô hình SVD là một lựa chọn phù hợp cho bài toán này, nhờ vào sự cân bằng giữa độ chính xác và thời gian huấn luyện."
   ]
  },
  {
   "cell_type": "code",
   "execution_count": 18,
   "metadata": {},
   "outputs": [
    {
     "name": "stdout",
     "output_type": "stream",
     "text": [
      "    Hotel_ID                                         Hotel_Name  \\\n",
      "32       2_3                              ELITE HOTEL NHA TRANG   \n",
      "40      2_11                              Maris Hotel Nha Trang   \n",
      "149    10_22  Khách sạn Sunrise Nha Trang Beach Hotel & Spa ...   \n",
      "198    16_15            HANZ Muong Thanh Vien Trieu Condo Hotel   \n",
      "620     20_2    Khách Sạn MerPerle Beach (MerPerle Beach Hotel)   \n",
      "\n",
      "         Hotel_Rank                                      Hotel_Address  \\\n",
      "32     4 sao trên 5  50 Đ. Củ Chi, Vĩnh Hải, ELite Hotel Nha Trang,...   \n",
      "40     4 sao trên 5  27 Trần Quang Khải, Phường Lộc Thọ, Thành phố ...   \n",
      "149    5 sao trên 5  12 Trần Phú , Xương Huân, Nha Trang, Việt Nam,...   \n",
      "198  No information  5 Phạm Văn Đồng, Vĩnh Hải, Nha Trang, Khánh Hò...   \n",
      "620  No information  88A Tran Phu Street, Lộc Thọ, Nha Trang, Việt ...   \n",
      "\n",
      "     Total_Score  \n",
      "32           9.7  \n",
      "40           9.2  \n",
      "149          8.9  \n",
      "198         10.0  \n",
      "620          9.2  \n"
     ]
    }
   ],
   "source": [
    "# Xử dụng mô hình SVD để xây dựng hàm đề xuất\n",
    "\n",
    "# Chuẩn bị dữ liệu\n",
    "reader = Reader(rating_scale=(1, 10))\n",
    "data = Dataset.load_from_df(hotel_comments_df[['Reviewer ID', 'Hotel ID', 'Score']], reader)\n",
    "trainset = data.build_full_trainset()\n",
    "\n",
    "# Huấn luyện mô hình SVD\n",
    "svd_model = SVD()\n",
    "svd_model.fit(trainset)\n",
    "\n",
    "def recommend_hotels(reviewer_id, num_recommendations=5):\n",
    "    # Lấy danh sách tất cả các khách sạn\n",
    "    all_hotels = hotel_info_df['Hotel_ID'].unique()\n",
    "    \n",
    "    # Lấy danh sách các khách sạn đã đánh giá bởi người dùng này\n",
    "    rated_hotels = hotel_comments_df[hotel_comments_df['Reviewer ID'] == reviewer_id]['Hotel ID'].unique()\n",
    "    \n",
    "    # Lọc ra các khách sạn chưa được đánh giá bởi người dùng này\n",
    "    unrated_hotels = [hotel for hotel in all_hotels if hotel not in rated_hotels]\n",
    "    \n",
    "    # Dự đoán điểm cho các khách sạn chưa được đánh giá\n",
    "    predictions = [svd_model.predict(reviewer_id, hotel).est for hotel in unrated_hotels]\n",
    "    \n",
    "    # Tạo DataFrame chứa kết quả và sắp xếp theo điểm dự đoán\n",
    "    recommendations = pd.DataFrame({\n",
    "        'Hotel_ID': unrated_hotels,\n",
    "        'Predicted_Score': predictions\n",
    "    })\n",
    "    \n",
    "    # Lấy top các khách sạn được đề xuất cao nhất\n",
    "    top_recommendations = recommendations.sort_values(by='Predicted_Score', ascending=False).head(num_recommendations)\n",
    "    \n",
    "    # Trả về thông tin chi tiết của các khách sạn được đề xuất\n",
    "    return hotel_info_df[hotel_info_df['Hotel_ID'].isin(top_recommendations['Hotel_ID'])][['Hotel_ID', 'Hotel_Name', 'Hotel_Rank', 'Hotel_Address', 'Total_Score']]\n",
    "\n",
    "# Ví dụ sử dụng hàm\n",
    "print(recommend_hotels(reviewer_id='148', num_recommendations=5))"
   ]
  },
  {
   "cell_type": "code",
   "execution_count": 19,
   "metadata": {},
   "outputs": [],
   "source": [
    "import pickle\n",
    "with open('svd_model.pkl', 'wb') as f:\n",
    "    pickle.dump(svd_model, f)"
   ]
  },
  {
   "cell_type": "code",
   "execution_count": 20,
   "metadata": {},
   "outputs": [],
   "source": [
    "# spark.stop()\n"
   ]
  }
 ],
 "metadata": {
  "kernelspec": {
   "display_name": "Python 3",
   "language": "python",
   "name": "python3"
  },
  "language_info": {
   "codemirror_mode": {
    "name": "ipython",
    "version": 3
   },
   "file_extension": ".py",
   "mimetype": "text/x-python",
   "name": "python",
   "nbconvert_exporter": "python",
   "pygments_lexer": "ipython3",
   "version": "3.11.5"
  }
 },
 "nbformat": 4,
 "nbformat_minor": 2
}
