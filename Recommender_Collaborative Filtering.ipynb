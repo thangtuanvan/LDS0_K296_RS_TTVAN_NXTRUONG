{
 "cells": [
  {
   "cell_type": "code",
   "execution_count": 1,
   "metadata": {},
   "outputs": [],
   "source": [
    "import findspark\n",
    "findspark.init()"
   ]
  },
  {
   "cell_type": "code",
   "execution_count": 2,
   "metadata": {},
   "outputs": [],
   "source": [
    "import pyspark"
   ]
  },
  {
   "cell_type": "code",
   "execution_count": 3,
   "metadata": {},
   "outputs": [],
   "source": [
    "from pyspark.sql import SparkSession\n",
    "from pyspark.ml.recommendation import ALS\n",
    "from pyspark.ml.evaluation import RegressionEvaluator\n",
    "from surprise import SVD, SVDpp, NMF, Dataset, Reader\n",
    "from surprise.model_selection import cross_validate\n",
    "import pandas as pd"
   ]
  },
  {
   "cell_type": "code",
   "execution_count": 4,
   "metadata": {},
   "outputs": [],
   "source": [
    "spark = SparkSession.builder.appName(\"CollaborativeFiltering\").getOrCreate()"
   ]
  },
  {
   "cell_type": "code",
   "execution_count": 5,
   "metadata": {},
   "outputs": [],
   "source": [
    "hotel_comments_df = pd.read_csv(\"data/hotel_comments_cleaned.csv\")\n",
    "hotel_info_df = pd.read_csv(\"data/hotel_info_cleaned.csv\")"
   ]
  },
  {
   "cell_type": "code",
   "execution_count": 6,
   "metadata": {},
   "outputs": [
    {
     "name": "stderr",
     "output_type": "stream",
     "text": [
      "C:\\Users\\admin\\AppData\\Local\\Temp\\ipykernel_21092\\1463577058.py:3: SettingWithCopyWarning: \n",
      "A value is trying to be set on a copy of a slice from a DataFrame.\n",
      "Try using .loc[row_indexer,col_indexer] = value instead\n",
      "\n",
      "See the caveats in the documentation: https://pandas.pydata.org/pandas-docs/stable/user_guide/indexing.html#returning-a-view-versus-a-copy\n",
      "  als_data['Hotel ID'] = als_data['Hotel ID'].apply(lambda x: int(x.split('_')[1]))\n",
      "C:\\Users\\admin\\AppData\\Local\\Temp\\ipykernel_21092\\1463577058.py:4: SettingWithCopyWarning: \n",
      "A value is trying to be set on a copy of a slice from a DataFrame.\n",
      "Try using .loc[row_indexer,col_indexer] = value instead\n",
      "\n",
      "See the caveats in the documentation: https://pandas.pydata.org/pandas-docs/stable/user_guide/indexing.html#returning-a-view-versus-a-copy\n",
      "  als_data['Reviewer ID'] = als_data['Reviewer ID'].apply(lambda x: int(x.split('_')[2]))\n"
     ]
    }
   ],
   "source": [
    "# Tiền xử lý dữ liệu cho mô hình PySpark ALS\n",
    "als_data = hotel_comments_df[['Hotel ID', 'Reviewer ID', 'Score']]\n",
    "als_data['Hotel ID'] = als_data['Hotel ID'].apply(lambda x: int(x.split('_')[1]))\n",
    "als_data['Reviewer ID'] = als_data['Reviewer ID'].apply(lambda x: int(x.split('_')[2]))"
   ]
  },
  {
   "cell_type": "code",
   "execution_count": 7,
   "metadata": {},
   "outputs": [],
   "source": [
    "# Chuyển đổi DataFrame sang Spark DataFrame\n",
    "spark_df = spark.createDataFrame(als_data)"
   ]
  },
  {
   "cell_type": "code",
   "execution_count": 8,
   "metadata": {},
   "outputs": [
    {
     "data": {
      "text/plain": [
       "25892"
      ]
     },
     "metadata": {},
     "output_type": "display_data"
    },
    {
     "data": {
      "text/plain": [
       "250"
      ]
     },
     "metadata": {},
     "output_type": "display_data"
    },
    {
     "data": {
      "text/plain": [
       "30"
      ]
     },
     "metadata": {},
     "output_type": "display_data"
    }
   ],
   "source": [
    "reviewers = spark_df.select(\"Reviewer ID\").distinct().count()\n",
    "hotels = spark_df.select(\"Hotel ID\").distinct().count()\n",
    "numerator = spark_df.count()\n",
    "display(numerator, reviewers, hotels)"
   ]
  },
  {
   "cell_type": "code",
   "execution_count": 9,
   "metadata": {},
   "outputs": [],
   "source": [
    "# Chia dữ liệu thành tập đào tạo và kiểm tra\n",
    "(training, test) = spark_df.randomSplit([0.8, 0.2])"
   ]
  },
  {
   "cell_type": "code",
   "execution_count": 10,
   "metadata": {},
   "outputs": [],
   "source": [
    "# Xây dựng mô hình ALS\n",
    "als = ALS(maxIter=10, regParam=0.1, rank=25, userCol=\"Reviewer ID\", itemCol=\"Hotel ID\", ratingCol=\"Score\", coldStartStrategy=\"drop\", nonnegative=True)\n",
    "model = als.fit(training)"
   ]
  },
  {
   "cell_type": "code",
   "execution_count": 11,
   "metadata": {},
   "outputs": [],
   "source": [
    "# Đánh giá mô hình\n",
    "predictions = model.transform(test)\n",
    "evaluator = RegressionEvaluator(metricName=\"rmse\", labelCol=\"Score\", predictionCol=\"prediction\")\n",
    "rmse = evaluator.evaluate(predictions)"
   ]
  },
  {
   "cell_type": "code",
   "execution_count": 12,
   "metadata": {},
   "outputs": [
    {
     "name": "stdout",
     "output_type": "stream",
     "text": [
      "Root-mean-square error = 0.9925520572215859\n"
     ]
    }
   ],
   "source": [
    "print(f\"Root-mean-square error = {str(rmse)}\")"
   ]
  },
  {
   "cell_type": "code",
   "execution_count": 13,
   "metadata": {},
   "outputs": [
    {
     "name": "stdout",
     "output_type": "stream",
     "text": [
      "+--------+-----------+-----+----------+\n",
      "|Hotel ID|Reviewer ID|Score|prediction|\n",
      "+--------+-----------+-----+----------+\n",
      "|      17|        148| 10.0|  9.312342|\n",
      "|      19|        148|  9.2|  8.937522|\n",
      "|      13|         31|  7.2|  9.192388|\n",
      "|      18|         31|  8.0|  8.754115|\n",
      "|       3|        137|  9.6|  9.343606|\n",
      "+--------+-----------+-----+----------+\n",
      "only showing top 5 rows\n",
      "\n"
     ]
    }
   ],
   "source": [
    "predictions.show(5)"
   ]
  },
  {
   "cell_type": "code",
   "execution_count": 14,
   "metadata": {},
   "outputs": [],
   "source": [
    "# Tải dữ liệu cho Surprise\n",
    "reader = Reader(rating_scale=(1, 10))\n",
    "data = Dataset.load_from_df(hotel_comments_df[['Reviewer ID', 'Hotel ID', 'Score']], reader)"
   ]
  },
  {
   "cell_type": "code",
   "execution_count": 15,
   "metadata": {},
   "outputs": [
    {
     "name": "stdout",
     "output_type": "stream",
     "text": [
      "Evaluating RMSE, MAE of algorithm SVD on 5 split(s).\n",
      "\n",
      "                  Fold 1  Fold 2  Fold 3  Fold 4  Fold 5  Mean    Std     \n",
      "RMSE (testset)    0.9515  0.9618  0.9265  0.9316  0.9538  0.9450  0.0136  \n",
      "MAE (testset)     0.7625  0.7710  0.7501  0.7492  0.7596  0.7584  0.0081  \n",
      "Fit time          0.28    0.25    0.25    0.25    0.29    0.26    0.02    \n",
      "Test time         0.02    0.02    0.01    0.01    0.08    0.03    0.02    \n"
     ]
    }
   ],
   "source": [
    "# Huấn luyện và đánh giá mô hình SVD\n",
    "svd = SVD()\n",
    "svd_results = cross_validate(svd, data, measures=['RMSE', 'MAE'], cv=5, verbose=True)"
   ]
  },
  {
   "cell_type": "code",
   "execution_count": 16,
   "metadata": {},
   "outputs": [
    {
     "name": "stdout",
     "output_type": "stream",
     "text": [
      "Evaluating RMSE, MAE of algorithm SVDpp on 5 split(s).\n",
      "\n",
      "                  Fold 1  Fold 2  Fold 3  Fold 4  Fold 5  Mean    Std     \n",
      "RMSE (testset)    0.9369  0.9525  0.9507  0.9528  0.9440  0.9474  0.0061  \n",
      "MAE (testset)     0.7552  0.7728  0.7669  0.7707  0.7620  0.7655  0.0063  \n",
      "Fit time          0.16    0.15    0.16    0.16    0.18    0.16    0.01    \n",
      "Test time         0.02    0.06    0.02    0.01    0.01    0.03    0.02    \n"
     ]
    }
   ],
   "source": [
    "# Huấn luyện và đánh giá mô hình SVD++\n",
    "svdpp = SVDpp()\n",
    "svdpp_results = cross_validate(svdpp, data, measures=['RMSE', 'MAE'], cv=5, verbose=True)"
   ]
  },
  {
   "cell_type": "code",
   "execution_count": 17,
   "metadata": {},
   "outputs": [
    {
     "name": "stdout",
     "output_type": "stream",
     "text": [
      "Evaluating RMSE, MAE of algorithm NMF on 5 split(s).\n",
      "\n",
      "                  Fold 1  Fold 2  Fold 3  Fold 4  Fold 5  Mean    Std     \n",
      "RMSE (testset)    0.9641  0.9907  0.9712  0.9665  0.9903  0.9766  0.0116  \n",
      "MAE (testset)     0.7884  0.8052  0.7903  0.7870  0.7999  0.7942  0.0071  \n",
      "Fit time          1.04    0.89    0.97    0.96    0.99    0.97    0.05    \n",
      "Test time         0.02    0.02    0.02    0.02    0.02    0.02    0.00    \n"
     ]
    }
   ],
   "source": [
    "# Huấn luyện và đánh giá mô hình NMF\n",
    "nmf = NMF()\n",
    "nmf_results = cross_validate(nmf, data, measures=['RMSE', 'MAE'], cv=5, verbose=True)"
   ]
  },
  {
   "cell_type": "markdown",
   "metadata": {},
   "source": [
    "- SVD có RMSE trung bình là khoảng 0.9456 và MAE trung bình là 0.7589. Thời gian fit và test khá nhanh, chỉ khoảng 0.22s và 0.02s tương ứng.\n",
    "- SVD++ cho thấy RMSE trung bình là khoảng 0.9477 và MAE trung bình là 0.7662. Thời gian fit và test là 0.16s và 0.01s tương ứng.\n",
    "- NMF cho kết quả RMSE trung bình là 0.9766 và MAE trung bình là 0.7942. Thời gian fit của mô hình này lâu nhất là 0.86s, nhưng thời gian test tương tự như hai mô hình còn lại.\n",
    "\n",
    "=> Mô hình SVD là một lựa chọn phù hợp cho bài toán này, nhờ vào sự cân bằng giữa độ chính xác và thời gian huấn luyện."
   ]
  },
  {
   "cell_type": "code",
   "execution_count": 18,
   "metadata": {},
   "outputs": [
    {
     "name": "stdout",
     "output_type": "stream",
     "text": [
      "    Hotel_ID                                       Hotel_Name      Hotel_Rank  \\\n",
      "32       2_3                            ELITE HOTEL NHA TRANG    4 sao trên 5   \n",
      "40      2_11                            Maris Hotel Nha Trang    4 sao trên 5   \n",
      "198    16_15          HANZ Muong Thanh Vien Trieu Condo Hotel  No information   \n",
      "272    29_14                Moonlight Bay Panorama Ocean View  No information   \n",
      "620     20_2  Khách Sạn MerPerle Beach (MerPerle Beach Hotel)  No information   \n",
      "\n",
      "                                         Hotel_Address  Total_Score  \n",
      "32   50 Đ. Củ Chi, Vĩnh Hải, ELite Hotel Nha Trang,...          9.7  \n",
      "40   27 Trần Quang Khải, Phường Lộc Thọ, Thành phố ...          9.2  \n",
      "198  5 Phạm Văn Đồng, Vĩnh Hải, Nha Trang, Khánh Hò...         10.0  \n",
      "272  02 Nguyễn Thị Minh Khai, Lộc Thọ, Nha Trang, V...          9.1  \n",
      "620  88A Tran Phu Street, Lộc Thọ, Nha Trang, Việt ...          9.2  \n"
     ]
    }
   ],
   "source": [
    "# Xử dụng mô hình SVD để xây dựng hàm đề xuất\n",
    "\n",
    "# Chuẩn bị dữ liệu\n",
    "reader = Reader(rating_scale=(1, 10))\n",
    "data = Dataset.load_from_df(hotel_comments_df[['Reviewer ID', 'Hotel ID', 'Score']], reader)\n",
    "trainset = data.build_full_trainset()\n",
    "\n",
    "# Huấn luyện mô hình SVD\n",
    "svd_model = SVD()\n",
    "svd_model.fit(trainset)\n",
    "\n",
    "def recommend_hotels(reviewer_id, num_recommendations=5):\n",
    "    # Lấy danh sách tất cả các khách sạn\n",
    "    all_hotels = hotel_info_df['Hotel_ID'].unique()\n",
    "    \n",
    "    # Lấy danh sách các khách sạn đã đánh giá bởi người dùng này\n",
    "    rated_hotels = hotel_comments_df[hotel_comments_df['Reviewer ID'] == reviewer_id]['Hotel ID'].unique()\n",
    "    \n",
    "    # Lọc ra các khách sạn chưa được đánh giá bởi người dùng này\n",
    "    unrated_hotels = [hotel for hotel in all_hotels if hotel not in rated_hotels]\n",
    "    \n",
    "    # Dự đoán điểm cho các khách sạn chưa được đánh giá\n",
    "    predictions = [svd_model.predict(reviewer_id, hotel).est for hotel in unrated_hotels]\n",
    "    \n",
    "    # Tạo DataFrame chứa kết quả và sắp xếp theo điểm dự đoán\n",
    "    recommendations = pd.DataFrame({\n",
    "        'Hotel_ID': unrated_hotels,\n",
    "        'Predicted_Score': predictions\n",
    "    })\n",
    "    \n",
    "    # Lấy top các khách sạn được đề xuất cao nhất\n",
    "    top_recommendations = recommendations.sort_values(by='Predicted_Score', ascending=False).head(num_recommendations)\n",
    "    \n",
    "    # Trả về thông tin chi tiết của các khách sạn được đề xuất\n",
    "    return hotel_info_df[hotel_info_df['Hotel_ID'].isin(top_recommendations['Hotel_ID'])][['Hotel_ID', 'Hotel_Name', 'Hotel_Rank', 'Hotel_Address', 'Total_Score']]\n",
    "\n",
    "# Ví dụ sử dụng hàm\n",
    "print(recommend_hotels(reviewer_id='148', num_recommendations=5))"
   ]
  },
  {
   "cell_type": "code",
   "execution_count": 19,
   "metadata": {},
   "outputs": [],
   "source": [
    "import pickle\n",
    "with open('svd_model.pkl', 'wb') as f:\n",
    "    pickle.dump(svd_model, f)"
   ]
  },
  {
   "cell_type": "code",
   "execution_count": 19,
   "metadata": {},
   "outputs": [],
   "source": [
    "# spark.stop()\n"
   ]
  }
 ],
 "metadata": {
  "kernelspec": {
   "display_name": "Python 3",
   "language": "python",
   "name": "python3"
  },
  "language_info": {
   "codemirror_mode": {
    "name": "ipython",
    "version": 3
   },
   "file_extension": ".py",
   "mimetype": "text/x-python",
   "name": "python",
   "nbconvert_exporter": "python",
   "pygments_lexer": "ipython3",
   "version": "3.10.10"
  }
 },
 "nbformat": 4,
 "nbformat_minor": 2
}
